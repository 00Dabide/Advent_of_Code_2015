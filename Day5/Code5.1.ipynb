{
 "cells": [
  {
   "cell_type": "code",
   "execution_count": 65,
   "metadata": {},
   "outputs": [],
   "source": [
    "import requests"
   ]
  },
  {
   "cell_type": "code",
   "execution_count": 66,
   "metadata": {},
   "outputs": [],
   "source": [
    "data = requests.get(\"https://raw.githubusercontent.com/00Dabide/Advent_of_Code_2015/refs/heads/main/Day5/Day5Text.txt\").text.split(\"\\n\")"
   ]
  },
  {
   "cell_type": "code",
   "execution_count": 68,
   "metadata": {},
   "outputs": [],
   "source": [
    "#1st rule: It contains at least three vowels (aeiou only), like aei, xazegov, or aeiouaeiouaeiou.\n",
    "def is_rule1(string) -> bool:\n",
    "    #define vowels\n",
    "    vowels = [\"a\",\"e\",\"i\",\"o\",\"u\"]\n",
    "    vow_numb = 0\n",
    "\n",
    "    #count vowels in the string\n",
    "    for vowel in vowels:\n",
    "        vow_numb += string.count(vowel)\n",
    "    \n",
    "    #nice if 3 or more vowel, else naughty\n",
    "    if vow_numb >= 3:\n",
    "        return True\n",
    "    else:\n",
    "        return False"
   ]
  },
  {
   "cell_type": "code",
   "execution_count": 69,
   "metadata": {},
   "outputs": [],
   "source": [
    "#2nd rule: It contains at least one letter that appears twice in a row, like xx, abcdde (dd), or aabbccdd (aa, bb, cc, or dd).\n",
    "def is_rule2(string) -> bool:\n",
    "    #go through every letter, but the last (to avoid index error)\n",
    "    for id in range(0,len(string)-1):\n",
    "        #if letter appears twice in a row, true\n",
    "        if string[id] == string[id + 1]:\n",
    "            return True\n",
    "    return False"
   ]
  },
  {
   "cell_type": "code",
   "execution_count": 70,
   "metadata": {},
   "outputs": [],
   "source": [
    "#3rd rule: It does not contain the strings ab, cd, pq, or xy, even if they are part of one of the other requirements.\n",
    "def is_rule3(string) -> bool:\n",
    "    #define bad strings\n",
    "    naughty = [\"ab\", \"cd\", \"pq\", \"xy\"]\n",
    "\n",
    "    #check if bad strings are contained in the string\n",
    "    #go through every letter, but the last (to avoid index error)\n",
    "    for id in range(0,len(string)-1):\n",
    "        if string[id:id+2] in naughty:\n",
    "            return False\n",
    "    return True"
   ]
  },
  {
   "cell_type": "code",
   "execution_count": 71,
   "metadata": {},
   "outputs": [],
   "source": [
    "def count_nice(data) -> int:\n",
    "    nice_words = 0\n",
    "\n",
    "    for word in data:\n",
    "        if is_rule1(word) and is_rule2(word) and is_rule3(word):\n",
    "            nice_words += 1\n",
    "    \n",
    "    return nice_words"
   ]
  },
  {
   "cell_type": "code",
   "execution_count": 72,
   "metadata": {},
   "outputs": [
    {
     "data": {
      "text/plain": [
       "236"
      ]
     },
     "execution_count": 72,
     "metadata": {},
     "output_type": "execute_result"
    }
   ],
   "source": [
    "count_nice(data)"
   ]
  }
 ],
 "metadata": {
  "kernelspec": {
   "display_name": "Python 3",
   "language": "python",
   "name": "python3"
  },
  "language_info": {
   "codemirror_mode": {
    "name": "ipython",
    "version": 3
   },
   "file_extension": ".py",
   "mimetype": "text/x-python",
   "name": "python",
   "nbconvert_exporter": "python",
   "pygments_lexer": "ipython3",
   "version": "3.12.8"
  }
 },
 "nbformat": 4,
 "nbformat_minor": 2
}
