{
 "cells": [
  {
   "cell_type": "code",
   "execution_count": 31,
   "metadata": {},
   "outputs": [],
   "source": [
    "import requests"
   ]
  },
  {
   "cell_type": "code",
   "execution_count": 32,
   "metadata": {},
   "outputs": [],
   "source": [
    "data = requests.get(\"https://raw.githubusercontent.com/00Dabide/Advent_of_Code_2015/refs/heads/main/Day5/Day5Text.txt\").text.split(\"\\n\")"
   ]
  },
  {
   "cell_type": "code",
   "execution_count": 33,
   "metadata": {},
   "outputs": [],
   "source": [
    "#1st rule: It contains a pair of any two letters that appears at least twice in the string without overlapping,\n",
    "#like xyxy (xy) or aabcdefgaa (aa), but not like aaa (aa, but it overlaps).\n",
    "\n",
    "def is_rule1(string) -> bool:\n",
    "    #go through every letter, but the last (to avoid index error)\n",
    "    for id in range(0,len(string)-1):\n",
    "        pair = string[id:id+2]\n",
    "        remaining = string[id+2:]\n",
    "        for id2 in range(0,len(remaining)-1):\n",
    "            if pair == remaining[id2:id2 +2]:\n",
    "                return True\n",
    "    return False"
   ]
  },
  {
   "cell_type": "code",
   "execution_count": 34,
   "metadata": {},
   "outputs": [],
   "source": [
    "#2nd rule: It contains at least one letter which repeats with exactly one letter between them, like xyx, abcdefeghi (efe), or even aaa.\n",
    "def is_rule2(string) -> bool:\n",
    "    #go through every letter, but the last two (to avoid index error)\n",
    "    for id in range(0,len(string)-2):\n",
    "        if string[id] == string[id+2]:\n",
    "            return True\n",
    "    return False"
   ]
  },
  {
   "cell_type": "code",
   "execution_count": 35,
   "metadata": {},
   "outputs": [],
   "source": [
    "def count_nice(data) -> int:\n",
    "    nice_words = 0\n",
    "\n",
    "    for word in data:\n",
    "        if is_rule1(word) and is_rule2(word):\n",
    "            nice_words += 1\n",
    "    \n",
    "    return nice_words"
   ]
  },
  {
   "cell_type": "code",
   "execution_count": 36,
   "metadata": {},
   "outputs": [
    {
     "data": {
      "text/plain": [
       "51"
      ]
     },
     "execution_count": 36,
     "metadata": {},
     "output_type": "execute_result"
    }
   ],
   "source": [
    "count_nice(data)"
   ]
  }
 ],
 "metadata": {
  "kernelspec": {
   "display_name": "Python 3",
   "language": "python",
   "name": "python3"
  },
  "language_info": {
   "codemirror_mode": {
    "name": "ipython",
    "version": 3
   },
   "file_extension": ".py",
   "mimetype": "text/x-python",
   "name": "python",
   "nbconvert_exporter": "python",
   "pygments_lexer": "ipython3",
   "version": "3.12.8"
  }
 },
 "nbformat": 4,
 "nbformat_minor": 2
}
