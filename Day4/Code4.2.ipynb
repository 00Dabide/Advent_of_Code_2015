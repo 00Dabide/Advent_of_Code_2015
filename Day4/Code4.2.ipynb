{
 "cells": [
  {
   "cell_type": "code",
   "execution_count": 1,
   "metadata": {},
   "outputs": [],
   "source": [
    "import requests\n",
    "import hashlib"
   ]
  },
  {
   "cell_type": "code",
   "execution_count": 2,
   "metadata": {},
   "outputs": [],
   "source": [
    "data = requests.get(\"https://raw.githubusercontent.com/00Dabide/Advent_of_Code_2015/refs/heads/main/Day4/Day4Text.txt\").text"
   ]
  },
  {
   "cell_type": "code",
   "execution_count": 3,
   "metadata": {},
   "outputs": [],
   "source": [
    "def get_hash(code) -> str:\n",
    "\n",
    "    last_num = int(float(\"10e\" + str(len(code))))\n",
    "\n",
    "    for number in range(0, last_num):\n",
    "\n",
    "        #create the possible code\n",
    "        encodable = code + str(number)\n",
    "\n",
    "        #encode to md5\n",
    "        md5_code = hashlib.md5(encodable.encode())\n",
    "\n",
    "        #decode to hex\n",
    "        hex_code = md5_code.hexdigest()\n",
    "\n",
    "        #check if hex has six leading 0\n",
    "        if hex_code[:6] == \"000000\":\n",
    "            return [encodable, hex_code]"
   ]
  },
  {
   "cell_type": "code",
   "execution_count": 4,
   "metadata": {},
   "outputs": [],
   "source": [
    "solution_code = get_hash(data)"
   ]
  },
  {
   "cell_type": "code",
   "execution_count": 5,
   "metadata": {},
   "outputs": [
    {
     "data": {
      "text/plain": [
       "['ckczppom3938038', '00000028023e3b4729684757f8dc3fbf']"
      ]
     },
     "execution_count": 5,
     "metadata": {},
     "output_type": "execute_result"
    }
   ],
   "source": [
    "solution_code"
   ]
  }
 ],
 "metadata": {
  "kernelspec": {
   "display_name": "Python 3",
   "language": "python",
   "name": "python3"
  },
  "language_info": {
   "codemirror_mode": {
    "name": "ipython",
    "version": 3
   },
   "file_extension": ".py",
   "mimetype": "text/x-python",
   "name": "python",
   "nbconvert_exporter": "python",
   "pygments_lexer": "ipython3",
   "version": "3.12.8"
  }
 },
 "nbformat": 4,
 "nbformat_minor": 2
}
