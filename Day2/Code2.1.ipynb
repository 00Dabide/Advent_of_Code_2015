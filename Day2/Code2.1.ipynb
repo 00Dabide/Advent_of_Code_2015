{
 "cells": [
  {
   "cell_type": "code",
   "execution_count": 30,
   "metadata": {},
   "outputs": [],
   "source": [
    "import requests"
   ]
  },
  {
   "cell_type": "code",
   "execution_count": 31,
   "metadata": {},
   "outputs": [],
   "source": [
    "data = requests.get(\"https://raw.githubusercontent.com/00Dabide/Advent_of_Code_2015/refs/heads/main/Day2/Day2Text.txt\").text.split(\"\\n\")"
   ]
  },
  {
   "cell_type": "code",
   "execution_count": 32,
   "metadata": {},
   "outputs": [],
   "source": [
    "for index,box in enumerate(data):\n",
    "    data[index] = data[index].split(\"x\")"
   ]
  },
  {
   "cell_type": "code",
   "execution_count": 33,
   "metadata": {},
   "outputs": [],
   "source": [
    "def calc_paper_needed(l : int, w : int, h: int) -> int:\n",
    "    lw = int(l)*int(w)\n",
    "    wh = int(w)*int(h)\n",
    "    hl = int(h)*int(l)\n",
    "    smallest_side = min(lw, wh, hl)\n",
    "    return 2*lw + 2*wh + 2*hl + smallest_side"
   ]
  },
  {
   "cell_type": "code",
   "execution_count": 34,
   "metadata": {},
   "outputs": [
    {
     "data": {
      "text/plain": [
       "1598415"
      ]
     },
     "execution_count": 34,
     "metadata": {},
     "output_type": "execute_result"
    }
   ],
   "source": [
    "sqf_wrapping_paper = 0\n",
    "for dimensions in data:\n",
    "    sqf_wrapping_paper += calc_paper_needed(dimensions[0], dimensions[1], dimensions[2])\n",
    "\n",
    "sqf_wrapping_paper"
   ]
  }
 ],
 "metadata": {
  "kernelspec": {
   "display_name": "Python 3",
   "language": "python",
   "name": "python3"
  },
  "language_info": {
   "codemirror_mode": {
    "name": "ipython",
    "version": 3
   },
   "file_extension": ".py",
   "mimetype": "text/x-python",
   "name": "python",
   "nbconvert_exporter": "python",
   "pygments_lexer": "ipython3",
   "version": "3.12.8"
  }
 },
 "nbformat": 4,
 "nbformat_minor": 2
}
