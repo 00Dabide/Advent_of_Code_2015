{
 "cells": [
  {
   "cell_type": "code",
   "execution_count": 59,
   "metadata": {},
   "outputs": [],
   "source": [
    "import requests"
   ]
  },
  {
   "cell_type": "code",
   "execution_count": 60,
   "metadata": {},
   "outputs": [],
   "source": [
    "data = requests.get(\"https://raw.githubusercontent.com/00Dabide/Advent_of_Code_2015/refs/heads/main/Day3/Day3Text.txt\").text"
   ]
  },
  {
   "cell_type": "code",
   "execution_count": 61,
   "metadata": {},
   "outputs": [],
   "source": [
    "def visited_houses() -> list:\n",
    "    #starting position\n",
    "    x = 0\n",
    "    y = 0\n",
    "    seen_houses = [[0,0]]\n",
    "\n",
    "    #update current position based on moving direction\n",
    "    for direction in data:\n",
    "        if direction == \"^\":\n",
    "            y += 1\n",
    "        elif direction == \"v\":\n",
    "            y -= 1\n",
    "        elif direction == \">\":\n",
    "            x += 1\n",
    "        elif direction == \"<\":\n",
    "            x -= 1\n",
    "    \n",
    "        #append current position\n",
    "        seen_houses.append([x, y])\n",
    "    \n",
    "    return seen_houses\n",
    "\n",
    "houses_list = visited_houses()"
   ]
  },
  {
   "cell_type": "code",
   "execution_count": 62,
   "metadata": {},
   "outputs": [
    {
     "data": {
      "text/plain": [
       "2572"
      ]
     },
     "execution_count": 62,
     "metadata": {},
     "output_type": "execute_result"
    }
   ],
   "source": [
    "len([list(x) for x in set(tuple(x) for x in houses_list)])"
   ]
  },
  {
   "cell_type": "code",
   "execution_count": null,
   "metadata": {},
   "outputs": [],
   "source": []
  }
 ],
 "metadata": {
  "kernelspec": {
   "display_name": "Python 3",
   "language": "python",
   "name": "python3"
  },
  "language_info": {
   "codemirror_mode": {
    "name": "ipython",
    "version": 3
   },
   "file_extension": ".py",
   "mimetype": "text/x-python",
   "name": "python",
   "nbconvert_exporter": "python",
   "pygments_lexer": "ipython3",
   "version": "3.12.8"
  }
 },
 "nbformat": 4,
 "nbformat_minor": 2
}
